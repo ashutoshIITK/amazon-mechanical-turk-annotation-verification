{
 "cells": [
  {
   "cell_type": "code",
   "execution_count": 1,
   "metadata": {},
   "outputs": [],
   "source": [
    "import pandas as pd\n",
    "import numpy as np\n",
    "import matplotlib.pyplot as plt\n",
    "import matplotlib.patches as patches\n",
    "import requests\n",
    "from io import BytesIO\n",
    "from PIL import Image\n",
    "import ast"
   ]
  },
  {
   "cell_type": "code",
   "execution_count": 2,
   "metadata": {},
   "outputs": [],
   "source": [
    "annotations_results = pd.read_csv(\"data/Batch_4041660_batch_results.csv\")\n",
    "\n",
    "color = {\"car\":\"#cd3232\", \"truck\": \"#32cd32\", \"bus\": \"#3c32cd\", \"motercycle\": \"#cd32c8\", \"cycle\":\"#74d3d6\"}"
   ]
  },
  {
   "cell_type": "code",
   "execution_count": null,
   "metadata": {},
   "outputs": [],
   "source": [
    "for i, each in annotations_results.iterrows():\n",
    "    image_url = requests.get(each[\"Input.image_url\"])\n",
    "    img = Image.open(BytesIO(image_url.content))\n",
    "    im = np.array(img, dtype=np.uint8)\n",
    "    \n",
    "    worker_answer = each[\"Answer.annotatedResult.boundingBoxes\"]\n",
    "    \n",
    "    fig,ax = plt.subplots(1)\n",
    "    ax.set_axis_off()\n",
    "    fig.add_axes(ax)\n",
    "    ax.imshow(im)\n",
    "\n",
    "    # Here we are using ast.literal_eval because the results are in string format\n",
    "    for answer in ast.literal_eval(worker_answer):\n",
    "        rect = patches.Rectangle((answer['left'],answer['top']),answer['width'],answer['height'],linewidth=1,edgecolor=color[answer[\"label\"]],facecolor='none')\n",
    "        ax.text(answer['left'],answer['top'], answer[\"label\"], fontsize=3)\n",
    "        ax.add_patch(rect)\n",
    "    # Save the bounding box with images\n",
    "    plt.savefig(f\"output/{i+1}.jpg\", dpi = 600, bbox_inches='tight')    \n",
    "    plt.close()"
   ]
  }
 ],
 "metadata": {
  "kernelspec": {
   "display_name": "Python 3",
   "language": "python",
   "name": "python3"
  },
  "language_info": {
   "codemirror_mode": {
    "name": "ipython",
    "version": 3
   },
   "file_extension": ".py",
   "mimetype": "text/x-python",
   "name": "python",
   "nbconvert_exporter": "python",
   "pygments_lexer": "ipython3",
   "version": "3.7.0"
  }
 },
 "nbformat": 4,
 "nbformat_minor": 2
}
