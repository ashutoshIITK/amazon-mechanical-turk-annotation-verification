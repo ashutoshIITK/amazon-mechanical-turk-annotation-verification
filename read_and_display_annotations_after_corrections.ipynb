{
 "cells": [
  {
   "cell_type": "code",
   "execution_count": 29,
   "metadata": {},
   "outputs": [],
   "source": [
    "import pandas as pd\n",
    "import numpy as np\n",
    "import matplotlib.pyplot as plt\n",
    "import matplotlib.patches as patches\n",
    "import requests\n",
    "from io import BytesIO\n",
    "from PIL import Image\n",
    "import ast"
   ]
  },
  {
   "cell_type": "code",
   "execution_count": 30,
   "metadata": {},
   "outputs": [],
   "source": [
    "annotations_results = pd.read_csv(\"data/20200606/Batch_4061620_batch_results.csv\")\n",
    "\n",
    "color = {\"car\":\"#cd3232\", \"truck\": \"#32cd32\", \"bus\": \"#3c32cd\", \"motercycle\": \"#cd32c8\", \"cycle\":\"#74d3d6\"}\n",
    "\n",
    "batch = \"Batch_4061620_batch_results\""
   ]
  },
  {
   "cell_type": "code",
   "execution_count": 31,
   "metadata": {},
   "outputs": [
    {
     "data": {
      "text/plain": [
       "2119"
      ]
     },
     "execution_count": 31,
     "metadata": {},
     "output_type": "execute_result"
    }
   ],
   "source": [
    "len(annotations_results)"
   ]
  },
  {
   "cell_type": "code",
   "execution_count": 32,
   "metadata": {},
   "outputs": [],
   "source": [
    "for i, each in annotations_results.iterrows():\n",
    "    if each[\"AssignmentStatus\"] == \"Submitted\":\n",
    "        image_url = requests.get(each[\"Input.image_url\"])\n",
    "        \n",
    "        img = Image.open(BytesIO(image_url.content))\n",
    "        im = np.array(img, dtype=np.uint8)\n",
    "\n",
    "        hit_id = each[\"HITId\"]\n",
    "        work_time = each[\"WorkTimeInSeconds\"]\n",
    "        approval_rate = each[\"LifetimeApprovalRate\"].replace(\"/\", \":\")\n",
    "        file_name = each['Input.image_url'].split('/')[-1]\n",
    "\n",
    "        worker_answer = each[\"Answer.annotatedResult.boundingBoxes\"]\n",
    "\n",
    "        fig,ax = plt.subplots(1)\n",
    "        ax.set_axis_off()\n",
    "        fig.add_axes(ax)\n",
    "        ax.imshow(im)\n",
    "\n",
    "        # Here we are using ast.literal_eval because the results are in string format\n",
    "        for answer in ast.literal_eval(worker_answer):\n",
    "            rect = patches.Rectangle((answer['left'],answer['top']),answer['width'],answer['height'],linewidth=1,edgecolor=color[answer[\"label\"]],facecolor='none')\n",
    "            ax.text(answer['left'],answer['top'], answer[\"label\"], fontsize=3)\n",
    "            ax.add_patch(rect)\n",
    "        # Save the bounding box with images\n",
    "        plt.savefig(f\"output/{batch}/{work_time}@{approval_rate}@{file_name[:-4]}.png\", dpi = 300, pad_inches=0.0, bbox_inches='tight')    \n",
    "        plt.close()"
   ]
  },
  {
   "cell_type": "code",
   "execution_count": 22,
   "metadata": {},
   "outputs": [],
   "source": [
    "annotation_results_corrected = annotations_results[annotations_results['AssignmentStatus'] == \"Submitted\"]"
   ]
  },
  {
   "cell_type": "code",
   "execution_count": 28,
   "metadata": {},
   "outputs": [
    {
     "ename": "NameError",
     "evalue": "name 'annotation_results' is not defined",
     "output_type": "error",
     "traceback": [
      "\u001b[0;31m---------------------------------------------------------------------------\u001b[0m",
      "\u001b[0;31mNameError\u001b[0m                                 Traceback (most recent call last)",
      "\u001b[0;32m<ipython-input-28-813f37c8b039>\u001b[0m in \u001b[0;36m<module>\u001b[0;34m()\u001b[0m\n\u001b[0;32m----> 1\u001b[0;31m \u001b[0mlen\u001b[0m\u001b[0;34m(\u001b[0m\u001b[0mannotation_results\u001b[0m\u001b[0;34m)\u001b[0m\u001b[0;34m\u001b[0m\u001b[0;34m\u001b[0m\u001b[0m\n\u001b[0m",
      "\u001b[0;31mNameError\u001b[0m: name 'annotation_results' is not defined"
     ]
    }
   ],
   "source": [
    "len(annotation_results_corrected)"
   ]
  },
  {
   "cell_type": "code",
   "execution_count": 24,
   "metadata": {},
   "outputs": [],
   "source": [
    "output_name = batch.split('/')[0] + '_corrected'"
   ]
  },
  {
   "cell_type": "code",
   "execution_count": 25,
   "metadata": {},
   "outputs": [],
   "source": [
    "annotation_results_corrected.to_csv(f'{output_name}.csv', index= False)"
   ]
  }
 ],
 "metadata": {
  "kernelspec": {
   "display_name": "Python 3",
   "language": "python",
   "name": "python3"
  },
  "language_info": {
   "codemirror_mode": {
    "name": "ipython",
    "version": 3
   },
   "file_extension": ".py",
   "mimetype": "text/x-python",
   "name": "python",
   "nbconvert_exporter": "python",
   "pygments_lexer": "ipython3",
   "version": "3.6.9"
  }
 },
 "nbformat": 4,
 "nbformat_minor": 2
}
