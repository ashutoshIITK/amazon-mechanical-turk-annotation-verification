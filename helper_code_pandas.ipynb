{
 "cells": [
  {
   "cell_type": "code",
   "execution_count": 84,
   "metadata": {},
   "outputs": [],
   "source": [
    "import pandas as pd\n",
    "import numpy as np\n",
    "import matplotlib.pyplot as plt\n",
    "import matplotlib.patches as patches\n",
    "import requests\n",
    "from io import BytesIO\n",
    "from PIL import Image\n",
    "import ast"
   ]
  },
  {
   "cell_type": "code",
   "execution_count": 85,
   "metadata": {},
   "outputs": [],
   "source": [
    "annotations_results = pd.read_csv(\"data/Batch_4052999_batch_results (copy 1).csv\")\n",
    "\n",
    "color = {\"car\":\"#cd3232\", \"truck\": \"#32cd32\", \"bus\": \"#3c32cd\", \"motercycle\": \"#cd32c8\", \"cycle\":\"#74d3d6\"}\n",
    "\n",
    "batch = \"third\""
   ]
  },
  {
   "cell_type": "code",
   "execution_count": 86,
   "metadata": {},
   "outputs": [
    {
     "data": {
      "text/plain": [
       "78"
      ]
     },
     "execution_count": 86,
     "metadata": {},
     "output_type": "execute_result"
    }
   ],
   "source": [
    "len(annotations_results)"
   ]
  },
  {
   "cell_type": "code",
   "execution_count": 27,
   "metadata": {},
   "outputs": [],
   "source": [
    "for i, each in annotations_results.iterrows():\n",
    "    if each[\"AssignmentStatus\"] == \"Submitted\":\n",
    "        image_url = requests.get(each[\"Input.image_url\"])\n",
    "        \n",
    "        img = Image.open(BytesIO(image_url.content))\n",
    "        im = np.array(img, dtype=np.uint8)\n",
    "\n",
    "        hit_id = each[\"HITId\"]\n",
    "        work_time = each[\"WorkTimeInSeconds\"]\n",
    "        approval_rate = each[\"LifetimeApprovalRate\"].replace(\"/\", \":\")\n",
    "        file_name = each['Input.image_url'].split('/')[-1]\n",
    "\n",
    "        worker_answer = each[\"Answer.annotatedResult.boundingBoxes\"]\n",
    "\n",
    "        fig,ax = plt.subplots(1)\n",
    "        ax.set_axis_off()\n",
    "        fig.add_axes(ax)\n",
    "        ax.imshow(im)\n",
    "\n",
    "        # Here we are using ast.literal_eval because the results are in string format\n",
    "        for answer in ast.literal_eval(worker_answer):\n",
    "            rect = patches.Rectangle((answer['left'],answer['top']),answer['width'],answer['height'],linewidth=1,edgecolor=color[answer[\"label\"]],facecolor='none')\n",
    "            ax.text(answer['left'],answer['top'], answer[\"label\"], fontsize=3)\n",
    "            ax.add_patch(rect)\n",
    "        # Save the bounding box with images\n",
    "        plt.savefig(f\"output/{batch}/{work_time}@{approval_rate}@{file_name[:-4]}.png\", dpi = 300, pad_inches=0.0, bbox_inches='tight')    \n",
    "        plt.close()"
   ]
  },
  {
   "cell_type": "code",
   "execution_count": null,
   "metadata": {},
   "outputs": [],
   "source": [
    "file_name = each['Input.image_url'].split('/')[-1]"
   ]
  },
  {
   "cell_type": "code",
   "execution_count": 31,
   "metadata": {},
   "outputs": [
    {
     "data": {
      "text/plain": [
       "'Asus-Chiba_1140491587638715.446965-00078.'"
      ]
     },
     "execution_count": 31,
     "metadata": {},
     "output_type": "execute_result"
    }
   ],
   "source": [
    "file_name[:-3]"
   ]
  },
  {
   "cell_type": "code",
   "execution_count": null,
   "metadata": {},
   "outputs": [],
   "source": [
    "annotations_results[]"
   ]
  },
  {
   "cell_type": "code",
   "execution_count": 34,
   "metadata": {},
   "outputs": [
    {
     "data": {
      "text/plain": [
       "'https://mturk-dataset.s3-ap-northeast-1.amazonaws.com/ash/Asus-Chiba_1140491587638715.446965-00078.jpg'"
      ]
     },
     "execution_count": 34,
     "metadata": {},
     "output_type": "execute_result"
    }
   ],
   "source": [
    "each['Input.image_url']"
   ]
  },
  {
   "cell_type": "code",
   "execution_count": 38,
   "metadata": {},
   "outputs": [
    {
     "data": {
      "text/plain": [
       "'https://mturk-dataset.s3-ap-northeast-1.amazonaws.com/ash/Asus-Chiba_1140491587638715.446965-00078..jpg'"
      ]
     },
     "execution_count": 38,
     "metadata": {},
     "output_type": "execute_result"
    }
   ],
   "source": [
    "f\"https://mturk-dataset.s3-ap-northeast-1.amazonaws.com/ash/{file_name[:-3]}.jpg\""
   ]
  },
  {
   "cell_type": "code",
   "execution_count": 56,
   "metadata": {},
   "outputs": [],
   "source": [
    "file_name = \"Asus-Chiba_1140491587638715.446965-00083.jpg\""
   ]
  },
  {
   "cell_type": "code",
   "execution_count": 87,
   "metadata": {},
   "outputs": [],
   "source": [
    "annotations_results.loc[annotations_results[\"Input.image_url\"] == f\"https://mturk-dataset.s3-ap-northeast-1.amazonaws.com/ash/{file_name[:-3]}jpg\", \"Approve\"] = \"x\""
   ]
  },
  {
   "cell_type": "code",
   "execution_count": 70,
   "metadata": {},
   "outputs": [
    {
     "name": "stderr",
     "output_type": "stream",
     "text": [
      "/home/ubuntu/anaconda3/envs/nndl_cpu/lib/python3.6/site-packages/pandas/core/indexing.py:543: SettingWithCopyWarning: \n",
      "A value is trying to be set on a copy of a slice from a DataFrame.\n",
      "Try using .loc[row_indexer,col_indexer] = value instead\n",
      "\n",
      "See the caveats in the documentation: http://pandas.pydata.org/pandas-docs/stable/indexing.html#indexing-view-versus-copy\n",
      "  self.obj[item] = s\n"
     ]
    }
   ],
   "source": [
    "df.loc[0, \"Approve\"] = \"poor quality\""
   ]
  },
  {
   "cell_type": "code",
   "execution_count": 71,
   "metadata": {},
   "outputs": [
    {
     "data": {
      "text/html": [
       "<div>\n",
       "<style scoped>\n",
       "    .dataframe tbody tr th:only-of-type {\n",
       "        vertical-align: middle;\n",
       "    }\n",
       "\n",
       "    .dataframe tbody tr th {\n",
       "        vertical-align: top;\n",
       "    }\n",
       "\n",
       "    .dataframe thead th {\n",
       "        text-align: right;\n",
       "    }\n",
       "</style>\n",
       "<table border=\"1\" class=\"dataframe\">\n",
       "  <thead>\n",
       "    <tr style=\"text-align: right;\">\n",
       "      <th></th>\n",
       "      <th>HITId</th>\n",
       "      <th>HITTypeId</th>\n",
       "      <th>Title</th>\n",
       "      <th>Description</th>\n",
       "      <th>Keywords</th>\n",
       "      <th>Reward</th>\n",
       "      <th>CreationTime</th>\n",
       "      <th>MaxAssignments</th>\n",
       "      <th>RequesterAnnotation</th>\n",
       "      <th>AssignmentDurationInSeconds</th>\n",
       "      <th>...</th>\n",
       "      <th>WorkTimeInSeconds</th>\n",
       "      <th>LifetimeApprovalRate</th>\n",
       "      <th>Last30DaysApprovalRate</th>\n",
       "      <th>Last7DaysApprovalRate</th>\n",
       "      <th>Input.image_url</th>\n",
       "      <th>Answer.annotatedResult.boundingBoxes</th>\n",
       "      <th>Answer.annotatedResult.inputImageProperties.height</th>\n",
       "      <th>Answer.annotatedResult.inputImageProperties.width</th>\n",
       "      <th>Approve</th>\n",
       "      <th>Reject</th>\n",
       "    </tr>\n",
       "  </thead>\n",
       "  <tbody>\n",
       "    <tr>\n",
       "      <th>0</th>\n",
       "      <td>386659BNTLHE40SDSEIH81MCH7710O</td>\n",
       "      <td>3DIFNAQ3LCFUK3B27DQQ0LW6L0BT3O</td>\n",
       "      <td>Draw bounding boxes around the requested item(s)</td>\n",
       "      <td>Draw bounding boxes around the requested item(s)</td>\n",
       "      <td>bounding box</td>\n",
       "      <td>$0.10</td>\n",
       "      <td>Mon May 25 19:37:06 PDT 2020</td>\n",
       "      <td>1</td>\n",
       "      <td>BatchId:4052999;OriginalHitTemplateId:928390838;</td>\n",
       "      <td>3600</td>\n",
       "      <td>...</td>\n",
       "      <td>176</td>\n",
       "      <td>100% (37/37)</td>\n",
       "      <td>0% (0/0)</td>\n",
       "      <td>0% (0/0)</td>\n",
       "      <td>https://mturk-dataset.s3-ap-northeast-1.amazon...</td>\n",
       "      <td>[{\"height\":41,\"label\":\"truck\",\"left\":794,\"top\"...</td>\n",
       "      <td>1080</td>\n",
       "      <td>1920</td>\n",
       "      <td>poor quality</td>\n",
       "      <td>poor quality</td>\n",
       "    </tr>\n",
       "  </tbody>\n",
       "</table>\n",
       "<p>1 rows × 33 columns</p>\n",
       "</div>"
      ],
      "text/plain": [
       "                            HITId                       HITTypeId  \\\n",
       "0  386659BNTLHE40SDSEIH81MCH7710O  3DIFNAQ3LCFUK3B27DQQ0LW6L0BT3O   \n",
       "\n",
       "                                              Title  \\\n",
       "0  Draw bounding boxes around the requested item(s)   \n",
       "\n",
       "                                        Description      Keywords Reward  \\\n",
       "0  Draw bounding boxes around the requested item(s)  bounding box  $0.10   \n",
       "\n",
       "                   CreationTime  MaxAssignments  \\\n",
       "0  Mon May 25 19:37:06 PDT 2020               1   \n",
       "\n",
       "                                RequesterAnnotation  \\\n",
       "0  BatchId:4052999;OriginalHitTemplateId:928390838;   \n",
       "\n",
       "   AssignmentDurationInSeconds      ...       WorkTimeInSeconds  \\\n",
       "0                         3600      ...                     176   \n",
       "\n",
       "  LifetimeApprovalRate  Last30DaysApprovalRate  Last7DaysApprovalRate  \\\n",
       "0         100% (37/37)                0% (0/0)               0% (0/0)   \n",
       "\n",
       "                                     Input.image_url  \\\n",
       "0  https://mturk-dataset.s3-ap-northeast-1.amazon...   \n",
       "\n",
       "                Answer.annotatedResult.boundingBoxes  \\\n",
       "0  [{\"height\":41,\"label\":\"truck\",\"left\":794,\"top\"...   \n",
       "\n",
       "  Answer.annotatedResult.inputImageProperties.height  \\\n",
       "0                                               1080   \n",
       "\n",
       "  Answer.annotatedResult.inputImageProperties.width       Approve  \\\n",
       "0                                              1920  poor quality   \n",
       "\n",
       "         Reject  \n",
       "0  poor quality  \n",
       "\n",
       "[1 rows x 33 columns]"
      ]
     },
     "execution_count": 71,
     "metadata": {},
     "output_type": "execute_result"
    }
   ],
   "source": [
    "df.to"
   ]
  },
  {
   "cell_type": "code",
   "execution_count": 88,
   "metadata": {},
   "outputs": [
    {
     "data": {
      "text/html": [
       "<div>\n",
       "<style scoped>\n",
       "    .dataframe tbody tr th:only-of-type {\n",
       "        vertical-align: middle;\n",
       "    }\n",
       "\n",
       "    .dataframe tbody tr th {\n",
       "        vertical-align: top;\n",
       "    }\n",
       "\n",
       "    .dataframe thead th {\n",
       "        text-align: right;\n",
       "    }\n",
       "</style>\n",
       "<table border=\"1\" class=\"dataframe\">\n",
       "  <thead>\n",
       "    <tr style=\"text-align: right;\">\n",
       "      <th></th>\n",
       "      <th>HITId</th>\n",
       "      <th>HITTypeId</th>\n",
       "      <th>Title</th>\n",
       "      <th>Description</th>\n",
       "      <th>Keywords</th>\n",
       "      <th>Reward</th>\n",
       "      <th>CreationTime</th>\n",
       "      <th>MaxAssignments</th>\n",
       "      <th>RequesterAnnotation</th>\n",
       "      <th>AssignmentDurationInSeconds</th>\n",
       "      <th>...</th>\n",
       "      <th>WorkTimeInSeconds</th>\n",
       "      <th>LifetimeApprovalRate</th>\n",
       "      <th>Last30DaysApprovalRate</th>\n",
       "      <th>Last7DaysApprovalRate</th>\n",
       "      <th>Input.image_url</th>\n",
       "      <th>Answer.annotatedResult.boundingBoxes</th>\n",
       "      <th>Answer.annotatedResult.inputImageProperties.height</th>\n",
       "      <th>Answer.annotatedResult.inputImageProperties.width</th>\n",
       "      <th>Approve</th>\n",
       "      <th>Reject</th>\n",
       "    </tr>\n",
       "  </thead>\n",
       "  <tbody>\n",
       "    <tr>\n",
       "      <th>0</th>\n",
       "      <td>386659BNTLHE40SDSEIH81MCH7710O</td>\n",
       "      <td>3DIFNAQ3LCFUK3B27DQQ0LW6L0BT3O</td>\n",
       "      <td>Draw bounding boxes around the requested item(s)</td>\n",
       "      <td>Draw bounding boxes around the requested item(s)</td>\n",
       "      <td>bounding box</td>\n",
       "      <td>$0.10</td>\n",
       "      <td>Mon May 25 19:37:06 PDT 2020</td>\n",
       "      <td>1</td>\n",
       "      <td>BatchId:4052999;OriginalHitTemplateId:928390838;</td>\n",
       "      <td>3600</td>\n",
       "      <td>...</td>\n",
       "      <td>176</td>\n",
       "      <td>100% (37/37)</td>\n",
       "      <td>0% (0/0)</td>\n",
       "      <td>0% (0/0)</td>\n",
       "      <td>https://mturk-dataset.s3-ap-northeast-1.amazon...</td>\n",
       "      <td>[{\"height\":41,\"label\":\"truck\",\"left\":794,\"top\"...</td>\n",
       "      <td>1080</td>\n",
       "      <td>1920</td>\n",
       "      <td>x</td>\n",
       "      <td>NaN</td>\n",
       "    </tr>\n",
       "    <tr>\n",
       "      <th>1</th>\n",
       "      <td>33NOQL7T9OZTHLIOVT4OTAC6DKW8Z7</td>\n",
       "      <td>3DIFNAQ3LCFUK3B27DQQ0LW6L0BT3O</td>\n",
       "      <td>Draw bounding boxes around the requested item(s)</td>\n",
       "      <td>Draw bounding boxes around the requested item(s)</td>\n",
       "      <td>bounding box</td>\n",
       "      <td>$0.10</td>\n",
       "      <td>Mon May 25 19:37:06 PDT 2020</td>\n",
       "      <td>1</td>\n",
       "      <td>BatchId:4052999;OriginalHitTemplateId:928390838;</td>\n",
       "      <td>3600</td>\n",
       "      <td>...</td>\n",
       "      <td>181</td>\n",
       "      <td>88% (890/1012)</td>\n",
       "      <td>79% (222/280)</td>\n",
       "      <td>88% (7/8)</td>\n",
       "      <td>https://mturk-dataset.s3-ap-northeast-1.amazon...</td>\n",
       "      <td>[{\"height\":43,\"label\":\"car\",\"left\":831,\"top\":4...</td>\n",
       "      <td>1080</td>\n",
       "      <td>1920</td>\n",
       "      <td>NaN</td>\n",
       "      <td>NaN</td>\n",
       "    </tr>\n",
       "    <tr>\n",
       "      <th>2</th>\n",
       "      <td>3UDTAB6HH6ZWT5V8WRXAN74VFJV905</td>\n",
       "      <td>3DIFNAQ3LCFUK3B27DQQ0LW6L0BT3O</td>\n",
       "      <td>Draw bounding boxes around the requested item(s)</td>\n",
       "      <td>Draw bounding boxes around the requested item(s)</td>\n",
       "      <td>bounding box</td>\n",
       "      <td>$0.10</td>\n",
       "      <td>Mon May 25 19:37:06 PDT 2020</td>\n",
       "      <td>1</td>\n",
       "      <td>BatchId:4052999;OriginalHitTemplateId:928390838;</td>\n",
       "      <td>3600</td>\n",
       "      <td>...</td>\n",
       "      <td>153</td>\n",
       "      <td>0% (0/0)</td>\n",
       "      <td>0% (0/0)</td>\n",
       "      <td>0% (0/0)</td>\n",
       "      <td>https://mturk-dataset.s3-ap-northeast-1.amazon...</td>\n",
       "      <td>[{\"height\":786,\"label\":\"truck\",\"left\":6,\"top\":...</td>\n",
       "      <td>1080</td>\n",
       "      <td>1920</td>\n",
       "      <td>NaN</td>\n",
       "      <td>NaN</td>\n",
       "    </tr>\n",
       "    <tr>\n",
       "      <th>3</th>\n",
       "      <td>3VDVA3ILIDFBF43Y6G7KTT9SOOWG16</td>\n",
       "      <td>3DIFNAQ3LCFUK3B27DQQ0LW6L0BT3O</td>\n",
       "      <td>Draw bounding boxes around the requested item(s)</td>\n",
       "      <td>Draw bounding boxes around the requested item(s)</td>\n",
       "      <td>bounding box</td>\n",
       "      <td>$0.10</td>\n",
       "      <td>Mon May 25 19:37:06 PDT 2020</td>\n",
       "      <td>1</td>\n",
       "      <td>BatchId:4052999;OriginalHitTemplateId:928390838;</td>\n",
       "      <td>3600</td>\n",
       "      <td>...</td>\n",
       "      <td>392</td>\n",
       "      <td>77% (33/43)</td>\n",
       "      <td>77% (33/43)</td>\n",
       "      <td>77% (33/43)</td>\n",
       "      <td>https://mturk-dataset.s3-ap-northeast-1.amazon...</td>\n",
       "      <td>[{\"height\":97,\"label\":\"car\",\"left\":0,\"top\":451...</td>\n",
       "      <td>1080</td>\n",
       "      <td>1920</td>\n",
       "      <td>NaN</td>\n",
       "      <td>NaN</td>\n",
       "    </tr>\n",
       "    <tr>\n",
       "      <th>4</th>\n",
       "      <td>3H781YYV6TIE4AJG2416ZW7B3R7TEA</td>\n",
       "      <td>3DIFNAQ3LCFUK3B27DQQ0LW6L0BT3O</td>\n",
       "      <td>Draw bounding boxes around the requested item(s)</td>\n",
       "      <td>Draw bounding boxes around the requested item(s)</td>\n",
       "      <td>bounding box</td>\n",
       "      <td>$0.10</td>\n",
       "      <td>Mon May 25 19:37:06 PDT 2020</td>\n",
       "      <td>1</td>\n",
       "      <td>BatchId:4052999;OriginalHitTemplateId:928390838;</td>\n",
       "      <td>3600</td>\n",
       "      <td>...</td>\n",
       "      <td>178</td>\n",
       "      <td>100% (37/37)</td>\n",
       "      <td>0% (0/0)</td>\n",
       "      <td>0% (0/0)</td>\n",
       "      <td>https://mturk-dataset.s3-ap-northeast-1.amazon...</td>\n",
       "      <td>[{\"height\":68,\"label\":\"truck\",\"left\":940,\"top\"...</td>\n",
       "      <td>1080</td>\n",
       "      <td>1920</td>\n",
       "      <td>NaN</td>\n",
       "      <td>NaN</td>\n",
       "    </tr>\n",
       "  </tbody>\n",
       "</table>\n",
       "<p>5 rows × 33 columns</p>\n",
       "</div>"
      ],
      "text/plain": [
       "                            HITId                       HITTypeId  \\\n",
       "0  386659BNTLHE40SDSEIH81MCH7710O  3DIFNAQ3LCFUK3B27DQQ0LW6L0BT3O   \n",
       "1  33NOQL7T9OZTHLIOVT4OTAC6DKW8Z7  3DIFNAQ3LCFUK3B27DQQ0LW6L0BT3O   \n",
       "2  3UDTAB6HH6ZWT5V8WRXAN74VFJV905  3DIFNAQ3LCFUK3B27DQQ0LW6L0BT3O   \n",
       "3  3VDVA3ILIDFBF43Y6G7KTT9SOOWG16  3DIFNAQ3LCFUK3B27DQQ0LW6L0BT3O   \n",
       "4  3H781YYV6TIE4AJG2416ZW7B3R7TEA  3DIFNAQ3LCFUK3B27DQQ0LW6L0BT3O   \n",
       "\n",
       "                                              Title  \\\n",
       "0  Draw bounding boxes around the requested item(s)   \n",
       "1  Draw bounding boxes around the requested item(s)   \n",
       "2  Draw bounding boxes around the requested item(s)   \n",
       "3  Draw bounding boxes around the requested item(s)   \n",
       "4  Draw bounding boxes around the requested item(s)   \n",
       "\n",
       "                                        Description      Keywords Reward  \\\n",
       "0  Draw bounding boxes around the requested item(s)  bounding box  $0.10   \n",
       "1  Draw bounding boxes around the requested item(s)  bounding box  $0.10   \n",
       "2  Draw bounding boxes around the requested item(s)  bounding box  $0.10   \n",
       "3  Draw bounding boxes around the requested item(s)  bounding box  $0.10   \n",
       "4  Draw bounding boxes around the requested item(s)  bounding box  $0.10   \n",
       "\n",
       "                   CreationTime  MaxAssignments  \\\n",
       "0  Mon May 25 19:37:06 PDT 2020               1   \n",
       "1  Mon May 25 19:37:06 PDT 2020               1   \n",
       "2  Mon May 25 19:37:06 PDT 2020               1   \n",
       "3  Mon May 25 19:37:06 PDT 2020               1   \n",
       "4  Mon May 25 19:37:06 PDT 2020               1   \n",
       "\n",
       "                                RequesterAnnotation  \\\n",
       "0  BatchId:4052999;OriginalHitTemplateId:928390838;   \n",
       "1  BatchId:4052999;OriginalHitTemplateId:928390838;   \n",
       "2  BatchId:4052999;OriginalHitTemplateId:928390838;   \n",
       "3  BatchId:4052999;OriginalHitTemplateId:928390838;   \n",
       "4  BatchId:4052999;OriginalHitTemplateId:928390838;   \n",
       "\n",
       "   AssignmentDurationInSeconds  ...    WorkTimeInSeconds LifetimeApprovalRate  \\\n",
       "0                         3600  ...                  176         100% (37/37)   \n",
       "1                         3600  ...                  181       88% (890/1012)   \n",
       "2                         3600  ...                  153             0% (0/0)   \n",
       "3                         3600  ...                  392          77% (33/43)   \n",
       "4                         3600  ...                  178         100% (37/37)   \n",
       "\n",
       "   Last30DaysApprovalRate  Last7DaysApprovalRate  \\\n",
       "0                0% (0/0)               0% (0/0)   \n",
       "1           79% (222/280)              88% (7/8)   \n",
       "2                0% (0/0)               0% (0/0)   \n",
       "3             77% (33/43)            77% (33/43)   \n",
       "4                0% (0/0)               0% (0/0)   \n",
       "\n",
       "                                     Input.image_url  \\\n",
       "0  https://mturk-dataset.s3-ap-northeast-1.amazon...   \n",
       "1  https://mturk-dataset.s3-ap-northeast-1.amazon...   \n",
       "2  https://mturk-dataset.s3-ap-northeast-1.amazon...   \n",
       "3  https://mturk-dataset.s3-ap-northeast-1.amazon...   \n",
       "4  https://mturk-dataset.s3-ap-northeast-1.amazon...   \n",
       "\n",
       "                Answer.annotatedResult.boundingBoxes  \\\n",
       "0  [{\"height\":41,\"label\":\"truck\",\"left\":794,\"top\"...   \n",
       "1  [{\"height\":43,\"label\":\"car\",\"left\":831,\"top\":4...   \n",
       "2  [{\"height\":786,\"label\":\"truck\",\"left\":6,\"top\":...   \n",
       "3  [{\"height\":97,\"label\":\"car\",\"left\":0,\"top\":451...   \n",
       "4  [{\"height\":68,\"label\":\"truck\",\"left\":940,\"top\"...   \n",
       "\n",
       "  Answer.annotatedResult.inputImageProperties.height  \\\n",
       "0                                               1080   \n",
       "1                                               1080   \n",
       "2                                               1080   \n",
       "3                                               1080   \n",
       "4                                               1080   \n",
       "\n",
       "  Answer.annotatedResult.inputImageProperties.width Approve Reject  \n",
       "0                                              1920       x    NaN  \n",
       "1                                              1920     NaN    NaN  \n",
       "2                                              1920     NaN    NaN  \n",
       "3                                              1920     NaN    NaN  \n",
       "4                                              1920     NaN    NaN  \n",
       "\n",
       "[5 rows x 33 columns]"
      ]
     },
     "execution_count": 88,
     "metadata": {},
     "output_type": "execute_result"
    }
   ],
   "source": [
    "annotations_results.head()"
   ]
  },
  {
   "cell_type": "code",
   "execution_count": 52,
   "metadata": {},
   "outputs": [
    {
     "data": {
      "text/plain": [
       "'https://mturk-dataset.s3-ap-northeast-1.amazonaws.com/ash/Asus-Chiba_1140491587638715.446965-00083.jpg'"
      ]
     },
     "execution_count": 52,
     "metadata": {},
     "output_type": "execute_result"
    }
   ],
   "source": [
    "annotations_results[\"Input.image_url\"][0]"
   ]
  },
  {
   "cell_type": "code",
   "execution_count": 89,
   "metadata": {},
   "outputs": [],
   "source": [
    "annotations_results.to_csv(\"a.csv\", index = False)"
   ]
  },
  {
   "cell_type": "code",
   "execution_count": 90,
   "metadata": {},
   "outputs": [],
   "source": [
    "a = pd.read_csv(\"a.csv\")"
   ]
  },
  {
   "cell_type": "code",
   "execution_count": 91,
   "metadata": {},
   "outputs": [
    {
     "data": {
      "text/html": [
       "<div>\n",
       "<style scoped>\n",
       "    .dataframe tbody tr th:only-of-type {\n",
       "        vertical-align: middle;\n",
       "    }\n",
       "\n",
       "    .dataframe tbody tr th {\n",
       "        vertical-align: top;\n",
       "    }\n",
       "\n",
       "    .dataframe thead th {\n",
       "        text-align: right;\n",
       "    }\n",
       "</style>\n",
       "<table border=\"1\" class=\"dataframe\">\n",
       "  <thead>\n",
       "    <tr style=\"text-align: right;\">\n",
       "      <th></th>\n",
       "      <th>HITId</th>\n",
       "      <th>HITTypeId</th>\n",
       "      <th>Title</th>\n",
       "      <th>Description</th>\n",
       "      <th>Keywords</th>\n",
       "      <th>Reward</th>\n",
       "      <th>CreationTime</th>\n",
       "      <th>MaxAssignments</th>\n",
       "      <th>RequesterAnnotation</th>\n",
       "      <th>AssignmentDurationInSeconds</th>\n",
       "      <th>...</th>\n",
       "      <th>WorkTimeInSeconds</th>\n",
       "      <th>LifetimeApprovalRate</th>\n",
       "      <th>Last30DaysApprovalRate</th>\n",
       "      <th>Last7DaysApprovalRate</th>\n",
       "      <th>Input.image_url</th>\n",
       "      <th>Answer.annotatedResult.boundingBoxes</th>\n",
       "      <th>Answer.annotatedResult.inputImageProperties.height</th>\n",
       "      <th>Answer.annotatedResult.inputImageProperties.width</th>\n",
       "      <th>Approve</th>\n",
       "      <th>Reject</th>\n",
       "    </tr>\n",
       "  </thead>\n",
       "  <tbody>\n",
       "    <tr>\n",
       "      <th>0</th>\n",
       "      <td>386659BNTLHE40SDSEIH81MCH7710O</td>\n",
       "      <td>3DIFNAQ3LCFUK3B27DQQ0LW6L0BT3O</td>\n",
       "      <td>Draw bounding boxes around the requested item(s)</td>\n",
       "      <td>Draw bounding boxes around the requested item(s)</td>\n",
       "      <td>bounding box</td>\n",
       "      <td>$0.10</td>\n",
       "      <td>Mon May 25 19:37:06 PDT 2020</td>\n",
       "      <td>1</td>\n",
       "      <td>BatchId:4052999;OriginalHitTemplateId:928390838;</td>\n",
       "      <td>3600</td>\n",
       "      <td>...</td>\n",
       "      <td>176</td>\n",
       "      <td>100% (37/37)</td>\n",
       "      <td>0% (0/0)</td>\n",
       "      <td>0% (0/0)</td>\n",
       "      <td>https://mturk-dataset.s3-ap-northeast-1.amazon...</td>\n",
       "      <td>[{\"height\":41,\"label\":\"truck\",\"left\":794,\"top\"...</td>\n",
       "      <td>1080</td>\n",
       "      <td>1920</td>\n",
       "      <td>x</td>\n",
       "      <td>NaN</td>\n",
       "    </tr>\n",
       "    <tr>\n",
       "      <th>1</th>\n",
       "      <td>33NOQL7T9OZTHLIOVT4OTAC6DKW8Z7</td>\n",
       "      <td>3DIFNAQ3LCFUK3B27DQQ0LW6L0BT3O</td>\n",
       "      <td>Draw bounding boxes around the requested item(s)</td>\n",
       "      <td>Draw bounding boxes around the requested item(s)</td>\n",
       "      <td>bounding box</td>\n",
       "      <td>$0.10</td>\n",
       "      <td>Mon May 25 19:37:06 PDT 2020</td>\n",
       "      <td>1</td>\n",
       "      <td>BatchId:4052999;OriginalHitTemplateId:928390838;</td>\n",
       "      <td>3600</td>\n",
       "      <td>...</td>\n",
       "      <td>181</td>\n",
       "      <td>88% (890/1012)</td>\n",
       "      <td>79% (222/280)</td>\n",
       "      <td>88% (7/8)</td>\n",
       "      <td>https://mturk-dataset.s3-ap-northeast-1.amazon...</td>\n",
       "      <td>[{\"height\":43,\"label\":\"car\",\"left\":831,\"top\":4...</td>\n",
       "      <td>1080</td>\n",
       "      <td>1920</td>\n",
       "      <td>NaN</td>\n",
       "      <td>NaN</td>\n",
       "    </tr>\n",
       "    <tr>\n",
       "      <th>2</th>\n",
       "      <td>3UDTAB6HH6ZWT5V8WRXAN74VFJV905</td>\n",
       "      <td>3DIFNAQ3LCFUK3B27DQQ0LW6L0BT3O</td>\n",
       "      <td>Draw bounding boxes around the requested item(s)</td>\n",
       "      <td>Draw bounding boxes around the requested item(s)</td>\n",
       "      <td>bounding box</td>\n",
       "      <td>$0.10</td>\n",
       "      <td>Mon May 25 19:37:06 PDT 2020</td>\n",
       "      <td>1</td>\n",
       "      <td>BatchId:4052999;OriginalHitTemplateId:928390838;</td>\n",
       "      <td>3600</td>\n",
       "      <td>...</td>\n",
       "      <td>153</td>\n",
       "      <td>0% (0/0)</td>\n",
       "      <td>0% (0/0)</td>\n",
       "      <td>0% (0/0)</td>\n",
       "      <td>https://mturk-dataset.s3-ap-northeast-1.amazon...</td>\n",
       "      <td>[{\"height\":786,\"label\":\"truck\",\"left\":6,\"top\":...</td>\n",
       "      <td>1080</td>\n",
       "      <td>1920</td>\n",
       "      <td>NaN</td>\n",
       "      <td>NaN</td>\n",
       "    </tr>\n",
       "    <tr>\n",
       "      <th>3</th>\n",
       "      <td>3VDVA3ILIDFBF43Y6G7KTT9SOOWG16</td>\n",
       "      <td>3DIFNAQ3LCFUK3B27DQQ0LW6L0BT3O</td>\n",
       "      <td>Draw bounding boxes around the requested item(s)</td>\n",
       "      <td>Draw bounding boxes around the requested item(s)</td>\n",
       "      <td>bounding box</td>\n",
       "      <td>$0.10</td>\n",
       "      <td>Mon May 25 19:37:06 PDT 2020</td>\n",
       "      <td>1</td>\n",
       "      <td>BatchId:4052999;OriginalHitTemplateId:928390838;</td>\n",
       "      <td>3600</td>\n",
       "      <td>...</td>\n",
       "      <td>392</td>\n",
       "      <td>77% (33/43)</td>\n",
       "      <td>77% (33/43)</td>\n",
       "      <td>77% (33/43)</td>\n",
       "      <td>https://mturk-dataset.s3-ap-northeast-1.amazon...</td>\n",
       "      <td>[{\"height\":97,\"label\":\"car\",\"left\":0,\"top\":451...</td>\n",
       "      <td>1080</td>\n",
       "      <td>1920</td>\n",
       "      <td>NaN</td>\n",
       "      <td>NaN</td>\n",
       "    </tr>\n",
       "    <tr>\n",
       "      <th>4</th>\n",
       "      <td>3H781YYV6TIE4AJG2416ZW7B3R7TEA</td>\n",
       "      <td>3DIFNAQ3LCFUK3B27DQQ0LW6L0BT3O</td>\n",
       "      <td>Draw bounding boxes around the requested item(s)</td>\n",
       "      <td>Draw bounding boxes around the requested item(s)</td>\n",
       "      <td>bounding box</td>\n",
       "      <td>$0.10</td>\n",
       "      <td>Mon May 25 19:37:06 PDT 2020</td>\n",
       "      <td>1</td>\n",
       "      <td>BatchId:4052999;OriginalHitTemplateId:928390838;</td>\n",
       "      <td>3600</td>\n",
       "      <td>...</td>\n",
       "      <td>178</td>\n",
       "      <td>100% (37/37)</td>\n",
       "      <td>0% (0/0)</td>\n",
       "      <td>0% (0/0)</td>\n",
       "      <td>https://mturk-dataset.s3-ap-northeast-1.amazon...</td>\n",
       "      <td>[{\"height\":68,\"label\":\"truck\",\"left\":940,\"top\"...</td>\n",
       "      <td>1080</td>\n",
       "      <td>1920</td>\n",
       "      <td>NaN</td>\n",
       "      <td>NaN</td>\n",
       "    </tr>\n",
       "  </tbody>\n",
       "</table>\n",
       "<p>5 rows × 33 columns</p>\n",
       "</div>"
      ],
      "text/plain": [
       "                            HITId                       HITTypeId  \\\n",
       "0  386659BNTLHE40SDSEIH81MCH7710O  3DIFNAQ3LCFUK3B27DQQ0LW6L0BT3O   \n",
       "1  33NOQL7T9OZTHLIOVT4OTAC6DKW8Z7  3DIFNAQ3LCFUK3B27DQQ0LW6L0BT3O   \n",
       "2  3UDTAB6HH6ZWT5V8WRXAN74VFJV905  3DIFNAQ3LCFUK3B27DQQ0LW6L0BT3O   \n",
       "3  3VDVA3ILIDFBF43Y6G7KTT9SOOWG16  3DIFNAQ3LCFUK3B27DQQ0LW6L0BT3O   \n",
       "4  3H781YYV6TIE4AJG2416ZW7B3R7TEA  3DIFNAQ3LCFUK3B27DQQ0LW6L0BT3O   \n",
       "\n",
       "                                              Title  \\\n",
       "0  Draw bounding boxes around the requested item(s)   \n",
       "1  Draw bounding boxes around the requested item(s)   \n",
       "2  Draw bounding boxes around the requested item(s)   \n",
       "3  Draw bounding boxes around the requested item(s)   \n",
       "4  Draw bounding boxes around the requested item(s)   \n",
       "\n",
       "                                        Description      Keywords Reward  \\\n",
       "0  Draw bounding boxes around the requested item(s)  bounding box  $0.10   \n",
       "1  Draw bounding boxes around the requested item(s)  bounding box  $0.10   \n",
       "2  Draw bounding boxes around the requested item(s)  bounding box  $0.10   \n",
       "3  Draw bounding boxes around the requested item(s)  bounding box  $0.10   \n",
       "4  Draw bounding boxes around the requested item(s)  bounding box  $0.10   \n",
       "\n",
       "                   CreationTime  MaxAssignments  \\\n",
       "0  Mon May 25 19:37:06 PDT 2020               1   \n",
       "1  Mon May 25 19:37:06 PDT 2020               1   \n",
       "2  Mon May 25 19:37:06 PDT 2020               1   \n",
       "3  Mon May 25 19:37:06 PDT 2020               1   \n",
       "4  Mon May 25 19:37:06 PDT 2020               1   \n",
       "\n",
       "                                RequesterAnnotation  \\\n",
       "0  BatchId:4052999;OriginalHitTemplateId:928390838;   \n",
       "1  BatchId:4052999;OriginalHitTemplateId:928390838;   \n",
       "2  BatchId:4052999;OriginalHitTemplateId:928390838;   \n",
       "3  BatchId:4052999;OriginalHitTemplateId:928390838;   \n",
       "4  BatchId:4052999;OriginalHitTemplateId:928390838;   \n",
       "\n",
       "   AssignmentDurationInSeconds  ...    WorkTimeInSeconds LifetimeApprovalRate  \\\n",
       "0                         3600  ...                  176         100% (37/37)   \n",
       "1                         3600  ...                  181       88% (890/1012)   \n",
       "2                         3600  ...                  153             0% (0/0)   \n",
       "3                         3600  ...                  392          77% (33/43)   \n",
       "4                         3600  ...                  178         100% (37/37)   \n",
       "\n",
       "   Last30DaysApprovalRate  Last7DaysApprovalRate  \\\n",
       "0                0% (0/0)               0% (0/0)   \n",
       "1           79% (222/280)              88% (7/8)   \n",
       "2                0% (0/0)               0% (0/0)   \n",
       "3             77% (33/43)            77% (33/43)   \n",
       "4                0% (0/0)               0% (0/0)   \n",
       "\n",
       "                                     Input.image_url  \\\n",
       "0  https://mturk-dataset.s3-ap-northeast-1.amazon...   \n",
       "1  https://mturk-dataset.s3-ap-northeast-1.amazon...   \n",
       "2  https://mturk-dataset.s3-ap-northeast-1.amazon...   \n",
       "3  https://mturk-dataset.s3-ap-northeast-1.amazon...   \n",
       "4  https://mturk-dataset.s3-ap-northeast-1.amazon...   \n",
       "\n",
       "                Answer.annotatedResult.boundingBoxes  \\\n",
       "0  [{\"height\":41,\"label\":\"truck\",\"left\":794,\"top\"...   \n",
       "1  [{\"height\":43,\"label\":\"car\",\"left\":831,\"top\":4...   \n",
       "2  [{\"height\":786,\"label\":\"truck\",\"left\":6,\"top\":...   \n",
       "3  [{\"height\":97,\"label\":\"car\",\"left\":0,\"top\":451...   \n",
       "4  [{\"height\":68,\"label\":\"truck\",\"left\":940,\"top\"...   \n",
       "\n",
       "  Answer.annotatedResult.inputImageProperties.height  \\\n",
       "0                                               1080   \n",
       "1                                               1080   \n",
       "2                                               1080   \n",
       "3                                               1080   \n",
       "4                                               1080   \n",
       "\n",
       "  Answer.annotatedResult.inputImageProperties.width Approve Reject  \n",
       "0                                              1920       x    NaN  \n",
       "1                                              1920     NaN    NaN  \n",
       "2                                              1920     NaN    NaN  \n",
       "3                                              1920     NaN    NaN  \n",
       "4                                              1920     NaN    NaN  \n",
       "\n",
       "[5 rows x 33 columns]"
      ]
     },
     "execution_count": 91,
     "metadata": {},
     "output_type": "execute_result"
    }
   ],
   "source": [
    "a.head()"
   ]
  },
  {
   "cell_type": "code",
   "execution_count": 92,
   "metadata": {},
   "outputs": [],
   "source": [
    "df_name = \"Batch_4052999_batch_results.csv\""
   ]
  },
  {
   "cell_type": "code",
   "execution_count": 93,
   "metadata": {},
   "outputs": [
    {
     "ename": "TypeError",
     "evalue": "'builtin_function_or_method' object is not subscriptable",
     "output_type": "error",
     "traceback": [
      "\u001b[0;31m---------------------------------------------------------------------------\u001b[0m",
      "\u001b[0;31mTypeError\u001b[0m                                 Traceback (most recent call last)",
      "\u001b[0;32m<ipython-input-93-cabb09cf0e6b>\u001b[0m in \u001b[0;36m<module>\u001b[0;34m()\u001b[0m\n\u001b[0;32m----> 1\u001b[0;31m \u001b[0msaved_df_name\u001b[0m \u001b[0;34m=\u001b[0m \u001b[0mdf_name\u001b[0m\u001b[0;34m.\u001b[0m\u001b[0msplit\u001b[0m\u001b[0;34m[\u001b[0m\u001b[0;34m\".\"\u001b[0m\u001b[0;34m]\u001b[0m\u001b[0;34m[\u001b[0m\u001b[0;36m0\u001b[0m\u001b[0;34m]\u001b[0m \u001b[0;34m+\u001b[0m \u001b[0;34m\"completed.csv\"\u001b[0m\u001b[0;34m\u001b[0m\u001b[0;34m\u001b[0m\u001b[0m\n\u001b[0m",
      "\u001b[0;31mTypeError\u001b[0m: 'builtin_function_or_method' object is not subscriptable"
     ]
    }
   ],
   "source": [
    "saved_df_name = df_name.split[\".\"][0] + \"completed.csv\""
   ]
  },
  {
   "cell_type": "code",
   "execution_count": 112,
   "metadata": {},
   "outputs": [],
   "source": [
    "saved_df = pd.read_csv(\"Batch_4052999_batch_results_completed.csv\")"
   ]
  },
  {
   "cell_type": "code",
   "execution_count": 113,
   "metadata": {},
   "outputs": [
    {
     "data": {
      "text/plain": [
       "count                5\n",
       "unique               1\n",
       "top       poor quality\n",
       "freq                 5\n",
       "Name: Reject, dtype: object"
      ]
     },
     "execution_count": 113,
     "metadata": {},
     "output_type": "execute_result"
    }
   ],
   "source": [
    "saved_df['Reject'].describe()"
   ]
  },
  {
   "cell_type": "code",
   "execution_count": 116,
   "metadata": {
    "scrolled": true
   },
   "outputs": [
    {
     "data": {
      "text/plain": [
       "'https://mturk-dataset.s3-ap-northeast-1.amazonaws.com/ash/Asus-Chiba_1130381587638760.804073-00032.jpg'"
      ]
     },
     "execution_count": 116,
     "metadata": {},
     "output_type": "execute_result"
    }
   ],
   "source": [
    "saved_df.iloc[19]['Input.image_url']"
   ]
  },
  {
   "cell_type": "code",
   "execution_count": null,
   "metadata": {},
   "outputs": [],
   "source": []
  }
 ],
 "metadata": {
  "kernelspec": {
   "display_name": "Python 3",
   "language": "python",
   "name": "python3"
  },
  "language_info": {
   "codemirror_mode": {
    "name": "ipython",
    "version": 3
   },
   "file_extension": ".py",
   "mimetype": "text/x-python",
   "name": "python",
   "nbconvert_exporter": "python",
   "pygments_lexer": "ipython3",
   "version": "3.6.9"
  }
 },
 "nbformat": 4,
 "nbformat_minor": 2
}
